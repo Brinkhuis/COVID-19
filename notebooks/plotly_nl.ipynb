{
 "cells": [
  {
   "cell_type": "markdown",
   "metadata": {},
   "source": [
    "# COVID-19 cases"
   ]
  },
  {
   "cell_type": "markdown",
   "metadata": {},
   "source": [
    "## Imports"
   ]
  },
  {
   "cell_type": "code",
   "execution_count": null,
   "metadata": {},
   "outputs": [],
   "source": [
    "import pandas as pd\n",
    "import geopandas as gpd\n",
    "import json\n",
    "import requests\n",
    "\n",
    "from pathlib import Path\n",
    "from zipfile import ZipFile\n",
    "\n",
    "import plotly.express as px"
   ]
  },
  {
   "cell_type": "markdown",
   "metadata": {},
   "source": [
    "## Shapefiles"
   ]
  },
  {
   "cell_type": "code",
   "execution_count": null,
   "metadata": {},
   "outputs": [],
   "source": [
    "shapefile = 'gemeente_2020_v1.shp'"
   ]
  },
  {
   "cell_type": "code",
   "execution_count": null,
   "metadata": {},
   "outputs": [],
   "source": [
    "# Download data\n",
    "download_dir = Path('../downloads')\n",
    "download_dir.mkdir(exist_ok=True)\n",
    "\n",
    "url = 'https://www.cbs.nl/-/media/cbs/dossiers/nederland-regionaal/wijk-en-buurtstatistieken/wijkbuurtkaart_2020_v1.zip'\n",
    "filename = url.split('/')[-1]\n",
    "\n",
    "if not Path(download_dir /filename).is_file():\n",
    "    try:\n",
    "        r = requests.get(url)\n",
    "        with open(download_dir /filename,'wb') as output_file:\n",
    "            output_file.write(r.content)\n",
    "    except:\n",
    "        pass"
   ]
  },
  {
   "cell_type": "code",
   "execution_count": null,
   "metadata": {},
   "outputs": [],
   "source": [
    "# Extract data\n",
    "shapefiles_dir = Path('../shapefiles')\n",
    "shapefiles_dir.mkdir(exist_ok=True)\n",
    "\n",
    "if not Path(shapefiles_dir /shapefile).is_file():\n",
    "    with ZipFile(download_dir /filename, 'r') as zipObj:\n",
    "        zipObj.extractall(shapefiles_dir)"
   ]
  },
  {
   "cell_type": "code",
   "execution_count": null,
   "metadata": {},
   "outputs": [],
   "source": [
    "# Read data\n",
    "gdf = gpd.read_file(shapefiles_dir / shapefile)\n",
    "gdf.sample(n=3)"
   ]
  },
  {
   "cell_type": "code",
   "execution_count": null,
   "metadata": {},
   "outputs": [],
   "source": [
    "# Filter rows (i.e. land only) and select columns\n",
    "gemeente = gdf.loc[gdf.H2O=='NEE', ['GM_NAAM', 'AANT_INW', 'geometry']]\n",
    "gemeente.sample(n=3)"
   ]
  },
  {
   "cell_type": "markdown",
   "metadata": {},
   "source": [
    "## COVID-19 data"
   ]
  },
  {
   "cell_type": "code",
   "execution_count": null,
   "metadata": {},
   "outputs": [],
   "source": [
    "base_url = 'https://data.rivm.nl/covid-19'\n",
    "file_name = 'COVID-19_aantallen_gemeente_per_dag.csv'"
   ]
  },
  {
   "cell_type": "code",
   "execution_count": null,
   "metadata": {},
   "outputs": [],
   "source": [
    "data_dir = Path('../data')\n",
    "data_dir.mkdir(exist_ok=True)\n",
    "\n",
    "try:\n",
    "    rivm = pd.read_csv(f'{base_url}/{file_name}', sep=';')\n",
    "    print(f'Data downloaded from {base_url}')\n",
    "except:\n",
    "    print('Data read from disk')\n",
    "    rivm = pd.read_csv(data_dir / 'rivm.csv', sep=';')"
   ]
  },
  {
   "cell_type": "code",
   "execution_count": null,
   "metadata": {},
   "outputs": [],
   "source": [
    "datum = '2021-01-05'"
   ]
  },
  {
   "cell_type": "code",
   "execution_count": null,
   "metadata": {},
   "outputs": [],
   "source": [
    "df = rivm.loc[rivm.Date_of_publication == datum, ['Municipality_name', 'Total_reported']]\\\n",
    ".dropna().groupby(by = 'Municipality_name').sum('Total_reported').reset_index()\n",
    "df.sample(n=5)"
   ]
  },
  {
   "cell_type": "markdown",
   "metadata": {},
   "source": [
    "## Merge datasets"
   ]
  },
  {
   "cell_type": "code",
   "execution_count": null,
   "metadata": {},
   "outputs": [],
   "source": [
    "gdf = pd.merge(gemeente, df, how='left', left_on='GM_NAAM', right_on='Municipality_name')\n",
    "gdf.drop('Municipality_name', axis=1, inplace=True)\n",
    "gdf['AANT_COVID_100K'] = 100_000 / gdf.AANT_INW * gdf.Total_reported # Aantal besmettingen per 100.000 inwoners\n",
    "gdf.sample(n=5)"
   ]
  },
  {
   "cell_type": "markdown",
   "metadata": {},
   "source": [
    "## Split datasets"
   ]
  },
  {
   "cell_type": "code",
   "execution_count": null,
   "metadata": {},
   "outputs": [],
   "source": [
    "geo_data = gdf.drop(['AANT_INW', 'Total_reported', 'AANT_COVID_100K'], axis=1)\n",
    "geo_data.sample(n=3)"
   ]
  },
  {
   "cell_type": "code",
   "execution_count": null,
   "metadata": {},
   "outputs": [],
   "source": [
    "data = gdf.drop(['AANT_INW', 'Total_reported', 'geometry'], axis=1)\\\n",
    ".rename(columns = {'GM_NAAM': 'Municipality_name'})\n",
    "data.info()"
   ]
  },
  {
   "cell_type": "code",
   "execution_count": null,
   "metadata": {},
   "outputs": [],
   "source": [
    "data.fillna(0, inplace=True)"
   ]
  },
  {
   "cell_type": "code",
   "execution_count": null,
   "metadata": {},
   "outputs": [],
   "source": [
    "data.sample(n=3)"
   ]
  },
  {
   "cell_type": "markdown",
   "metadata": {},
   "source": [
    "## Plotly"
   ]
  },
  {
   "cell_type": "code",
   "execution_count": null,
   "metadata": {},
   "outputs": [],
   "source": [
    "# Convert Coordinate Reference System to Web Mercator\n",
    "geo_data.geometry = geo_data.geometry.to_crs('EPSG:4326') # to_crs({'init': 'epsg:4326'}) --> deprecated syntax"
   ]
  },
  {
   "cell_type": "code",
   "execution_count": null,
   "metadata": {},
   "outputs": [],
   "source": [
    "# GeoJSON\n",
    "geojson = json.loads(geo_data.to_json())"
   ]
  },
  {
   "cell_type": "code",
   "execution_count": null,
   "metadata": {},
   "outputs": [],
   "source": [
    "fig = px.choropleth(data, geojson=geojson,\n",
    "                    locations='Municipality_name', featureidkey='properties.GM_NAAM',\n",
    "                    color='AANT_COVID_100K',\n",
    "                    projection='mercator'\n",
    "                   )\n",
    "fig.update_geos(fitbounds=\"locations\", visible=False)\n",
    "fig.update_layout(margin={\"r\":0,\"t\":0,\"l\":0,\"b\":0}) # right, top, left, bottom\n",
    "fig.show()"
   ]
  },
  {
   "cell_type": "code",
   "execution_count": null,
   "metadata": {},
   "outputs": [],
   "source": []
  }
 ],
 "metadata": {
  "@webio": {
   "lastCommId": null,
   "lastKernelId": null
  },
  "kernelspec": {
   "display_name": "Python 3",
   "language": "python",
   "name": "python3"
  },
  "language_info": {
   "codemirror_mode": {
    "name": "ipython",
    "version": 3
   },
   "file_extension": ".py",
   "mimetype": "text/x-python",
   "name": "python",
   "nbconvert_exporter": "python",
   "pygments_lexer": "ipython3",
   "version": "3.8.5"
  }
 },
 "nbformat": 4,
 "nbformat_minor": 4
}
