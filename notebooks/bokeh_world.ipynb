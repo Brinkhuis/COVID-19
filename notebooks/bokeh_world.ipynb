{
 "cells": [
  {
   "cell_type": "markdown",
   "metadata": {},
   "source": [
    "# COVID-19 Dashboard"
   ]
  },
  {
   "cell_type": "markdown",
   "metadata": {},
   "source": [
    "## Imports"
   ]
  },
  {
   "cell_type": "code",
   "execution_count": null,
   "metadata": {},
   "outputs": [],
   "source": [
    "import numpy as np\n",
    "import pandas as pd"
   ]
  },
  {
   "cell_type": "code",
   "execution_count": null,
   "metadata": {},
   "outputs": [],
   "source": [
    "from bokeh.io import output_file, output_notebook, show\n",
    "from bokeh.plotting import figure\n",
    "from bokeh.models import ColumnDataSource, GeoJSONDataSource, CDSView, GroupFilter\n",
    "from bokeh.models import Panel, Tabs, HoverTool, LinearColorMapper, ColorBar\n",
    "from bokeh.palettes import brewer, Dark2\n",
    "from bokeh.tile_providers import get_provider, Vendors"
   ]
  },
  {
   "cell_type": "markdown",
   "metadata": {},
   "source": [
    "## Settings"
   ]
  },
  {
   "cell_type": "code",
   "execution_count": null,
   "metadata": {},
   "outputs": [],
   "source": [
    "output_notebook()"
   ]
  },
  {
   "cell_type": "markdown",
   "metadata": {},
   "source": [
    "## Get Data"
   ]
  },
  {
   "cell_type": "markdown",
   "metadata": {},
   "source": [
    "World data from [The Center for Systems Science and Engineering (CSSE) at JHU](https://systems.jhu.edu) using their [COVID-19](https://github.com/CSSEGISandData/COVID-19) repository on [Github](https://github.com/)."
   ]
  },
  {
   "cell_type": "code",
   "execution_count": null,
   "metadata": {},
   "outputs": [],
   "source": [
    "def get_data_csse(cases=['confirmed', 'deaths', 'recovered']):\n",
    "    \"\"\"\n",
    "    Return DataFrame with international data\n",
    "    \"\"\"\n",
    "    \n",
    "    base_url = 'https://raw.githubusercontent.com/CSSEGISandData/COVID-19/master/csse_covid_19_data/'\n",
    "    \n",
    "    datasets = dict()\n",
    "    \n",
    "    for case in cases:\n",
    "        url = base_url + f'csse_covid_19_time_series/time_series_covid19_{case}_global.csv'\n",
    "        df = pd.read_csv(url)\n",
    "        df = df.melt(['Province/State', 'Country/Region', 'Lat', 'Long'],\n",
    "                     var_name='Date', value_name='Count')\n",
    "        df['Date'] = pd.to_datetime(df['Date'])\n",
    "        df['Case'] = case.capitalize()\n",
    "    \n",
    "        datasets[case] = df\n",
    "        \n",
    "    # Merge datasets\n",
    "    df = pd.concat(datasets.values(), axis=0).reset_index(drop=True)\n",
    "    \n",
    "    return df"
   ]
  },
  {
   "cell_type": "code",
   "execution_count": null,
   "metadata": {},
   "outputs": [],
   "source": [
    "df = get_data_csse(cases=['confirmed', 'deaths', 'recovered'])\n",
    "df.sample(n=3)"
   ]
  },
  {
   "cell_type": "code",
   "execution_count": null,
   "metadata": {},
   "outputs": [],
   "source": []
  },
  {
   "cell_type": "code",
   "execution_count": null,
   "metadata": {},
   "outputs": [],
   "source": [
    "def wgs84_to_web_mercator(df,\n",
    "                          lon_from='lon', lat_from='lat',\n",
    "                          lon_to='longitude', lat_to='latitude'\n",
    "                         ):\n",
    "    \"\"\"\n",
    "    Convert decimal longitude/latitude to Web Mercator format.\n",
    "    \"\"\"\n",
    "    k = 6378137\n",
    "    df[lon_to] = df[lon_from] * (k * np.pi/180.0)\n",
    "    df[lat_to] = np.log(np.tan((90 + df[lat_from]) * np.pi/360.0)) * k\n",
    "    return df"
   ]
  },
  {
   "cell_type": "code",
   "execution_count": null,
   "metadata": {},
   "outputs": [],
   "source": [
    "df = wgs84_to_web_mercator(df, lon_from='Long', lat_from='Lat').drop(['Lat', 'Long'], axis=1)\n",
    "df.sample(n=3)"
   ]
  },
  {
   "cell_type": "markdown",
   "metadata": {},
   "source": [
    "# Prepare plotting"
   ]
  },
  {
   "cell_type": "code",
   "execution_count": null,
   "metadata": {},
   "outputs": [],
   "source": [
    "def normalize(values):\n",
    "    min_value = min(values)\n",
    "    max_value = max(values)    \n",
    "    return [(x - min_value) / (max_value - min_value) for x in values]"
   ]
  },
  {
   "cell_type": "code",
   "execution_count": null,
   "metadata": {},
   "outputs": [],
   "source": [
    "def size(values, min_size, max_size):\n",
    "    return [int(np.ceil((x * (max_size - min_size)) + min_size)) for x in values]"
   ]
  },
  {
   "cell_type": "code",
   "execution_count": null,
   "metadata": {},
   "outputs": [],
   "source": [
    "# set plot size\n",
    "min_size = 10\n",
    "max_size = 200"
   ]
  },
  {
   "cell_type": "code",
   "execution_count": null,
   "metadata": {},
   "outputs": [],
   "source": [
    "# create and populate plot_size column\n",
    "df['plot_size'] = -99 # initialize\n",
    "for case in df['Case'].unique():\n",
    "    df.loc[df['Case']==case, 'plot_size'] =\\\n",
    "    size(normalize(df.loc[df['Case']==case, 'Count']), min_size, max_size)"
   ]
  },
  {
   "cell_type": "code",
   "execution_count": null,
   "metadata": {},
   "outputs": [],
   "source": [
    "# most recent data\n",
    "most_recent_data = df[df['Date']==df['Date'].max()]\\\n",
    ".fillna('-')\\\n",
    ".rename(columns={'Province/State': 'state', 'Country/Region': 'country'})"
   ]
  },
  {
   "cell_type": "markdown",
   "metadata": {},
   "source": [
    "## Visualize data"
   ]
  },
  {
   "cell_type": "code",
   "execution_count": null,
   "metadata": {},
   "outputs": [],
   "source": [
    "# world maps\n",
    "tile_provider = get_provider(Vendors.STAMEN_TERRAIN_RETINA)\n",
    "\n",
    "source = ColumnDataSource(most_recent_data)\n",
    "\n",
    "plots = list()\n",
    "\n",
    "for case, color in zip(['Confirmed', 'Recovered', 'Deaths'],\n",
    "                       ['crimson', 'forestgreen', 'navy']):\n",
    "    \n",
    "    case_filter = GroupFilter(column_name='Case', group=case)\n",
    "    case_view = CDSView(source=source, filters=[case_filter])\n",
    "\n",
    "    tooltips = [('Country/Region', '@country'), ('Province/State', '@state'), ('Cases', '@Count')]\n",
    "\n",
    "    p = figure(plot_width=900, plot_height=500,\n",
    "               x_range=(-18_000_000, 18_000_000), y_range=(-5_000_000, 8_500_000),\n",
    "               x_axis_type='mercator', y_axis_type='mercator',\n",
    "               tooltips=tooltips)\n",
    "    p.add_tile(tile_provider)\n",
    "    p.circle(x='longitude', y='latitude', size='plot_size', color=color, alpha=0.6,\n",
    "             source=source, view=case_view)\n",
    "    \n",
    "    plots.append(Panel(child=p, title=case))\n",
    "    \n",
    "world_maps = Tabs(tabs=plots)\n",
    "show(world_maps)"
   ]
  },
  {
   "cell_type": "markdown",
   "metadata": {},
   "source": [
    "## Prepare plotting"
   ]
  },
  {
   "cell_type": "markdown",
   "metadata": {},
   "source": [
    "`Province/State` data grouped by `Country/Region`."
   ]
  },
  {
   "cell_type": "code",
   "execution_count": null,
   "metadata": {},
   "outputs": [],
   "source": [
    "df_country = df.groupby(by=['Country/Region', 'Date', 'Case'])['Count'].sum()\\\n",
    ".reset_index()\\\n",
    ".rename(columns={'Country/Region': 'Country'})\n",
    "df_country['DateString'] = [d.strftime('%d-%m-%Y') for d in df_country['Date']] # add DateString for hovertool to use\n",
    "df_country.sample(n=7)"
   ]
  },
  {
   "cell_type": "markdown",
   "metadata": {},
   "source": [
    "## Visualize data"
   ]
  },
  {
   "cell_type": "code",
   "execution_count": null,
   "metadata": {},
   "outputs": [],
   "source": [
    "n = 5 # number of countries\n",
    "\n",
    "plots = list()\n",
    "\n",
    "for case in ['Confirmed', 'Recovered', 'Deaths']:\n",
    "\n",
    "    top_countries = df_country.loc[df_country['Case']==case, ['Country', 'Count']]\\\n",
    "    .groupby(by=['Country'])['Count'].max().sort_values(ascending=False).head(n).index\n",
    "    \n",
    "    p = figure(plot_width=900, plot_height=500, x_axis_type='datetime')\n",
    "    p.title.text = 'Click on legend entries to hide the corresponding lines'\n",
    "    \n",
    "    for data, country, color\\\n",
    "    in zip([ColumnDataSource(df_country[(df_country['Country'] == country) & (df_country['Case'] == case)])\\\n",
    "            for country in top_countries],\n",
    "           top_countries,\n",
    "           Dark2[n]):\n",
    "        \n",
    "        p.line(x='Date', y='Count', line_width=2, color=color, alpha=0.8, legend_label=country, source=data)\n",
    "        hover = HoverTool(tooltips = [('Country', '@Country'), ('Date', '@DateString'), ('Count','@Count')])\n",
    "        p.add_tools(hover)\n",
    "        \n",
    "    p.legend.location = 'top_left'\n",
    "    p.legend.click_policy = 'hide'\n",
    "    \n",
    "    plots.append(Panel(child=p, title=case))\n",
    "    \n",
    "top_five = Tabs(tabs=plots)\n",
    "show(top_five)"
   ]
  },
  {
   "cell_type": "markdown",
   "metadata": {},
   "source": [
    "## Visualize data"
   ]
  },
  {
   "cell_type": "code",
   "execution_count": null,
   "metadata": {},
   "outputs": [],
   "source": [
    "n = 5 # number of countries\n",
    "\n",
    "ref_country = 'Netherlands'\n",
    "\n",
    "plots = list()\n",
    "\n",
    "for case in ['Confirmed', 'Recovered', 'Deaths']:\n",
    "    \n",
    "    ref_group = df_country.loc[df_country['Case']==case, ['Country', 'Count']]\\\n",
    "    .groupby(by=['Country'])['Count'].max().sort_values(ascending=False)\\\n",
    "    .to_frame().reset_index()\n",
    "    id_nl = ref_group[ref_group['Country']==ref_country].index[0]\n",
    "    peer_countries = ref_group.iloc[id_nl-int(np.ceil((n-1)/2)):id_nl+int(np.ceil((n-1)/2)+1), 0]\n",
    "    \n",
    "    p = figure(plot_width=900, plot_height=500, x_axis_type='datetime')\n",
    "    p.title.text = 'Click on legend entries to hide the corresponding lines'\n",
    "    \n",
    "    for data, country, color\\\n",
    "    in zip([ColumnDataSource(df_country[(df_country['Country'] == country) & (df_country['Case'] == case)])\\\n",
    "            for country in peer_countries],\n",
    "           peer_countries,\n",
    "           Dark2[n]):\n",
    "        \n",
    "        p.line(x='Date', y='Count', line_width=2, color=color, alpha=0.8, legend_label=country, source=data)\n",
    "        hover = HoverTool(tooltips = [('Country', '@Country'), ('Date', '@DateString'), ('Count','@Count')])\n",
    "        p.add_tools(hover)\n",
    "        \n",
    "    p.legend.location = 'top_left'\n",
    "    p.legend.click_policy = 'hide'\n",
    "    \n",
    "    plots.append(Panel(child=p, title=case))\n",
    "    \n",
    "peer_five = Tabs(tabs=plots)\n",
    "show(peer_five)"
   ]
  },
  {
   "cell_type": "markdown",
   "metadata": {},
   "source": [
    "## Dashboard"
   ]
  },
  {
   "cell_type": "code",
   "execution_count": null,
   "metadata": {},
   "outputs": [],
   "source": [
    "output_file('../output/bokeh_dashboard.html')\n",
    "\n",
    "tab1 = Panel(child=world_maps, title='Maps')\n",
    "tab2 = Panel(child=top_five, title='Top 5')\n",
    "tab3 = Panel(child=peer_five, title='Nederlands compared to ...')\n",
    "\n",
    "tabs = Tabs(tabs=[tab1, tab2, tab3])\n",
    "\n",
    "show(tabs)"
   ]
  },
  {
   "cell_type": "code",
   "execution_count": null,
   "metadata": {},
   "outputs": [],
   "source": []
  }
 ],
 "metadata": {
  "@webio": {
   "lastCommId": null,
   "lastKernelId": null
  },
  "kernelspec": {
   "display_name": "Python 3",
   "language": "python",
   "name": "python3"
  },
  "language_info": {
   "codemirror_mode": {
    "name": "ipython",
    "version": 3
   },
   "file_extension": ".py",
   "mimetype": "text/x-python",
   "name": "python",
   "nbconvert_exporter": "python",
   "pygments_lexer": "ipython3",
   "version": "3.8.5"
  }
 },
 "nbformat": 4,
 "nbformat_minor": 4
}
