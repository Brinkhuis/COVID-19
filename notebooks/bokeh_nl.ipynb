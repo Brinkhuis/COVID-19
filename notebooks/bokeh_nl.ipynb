{
 "cells": [
  {
   "cell_type": "markdown",
   "metadata": {},
   "source": [
    "# COVID-19 cases"
   ]
  },
  {
   "cell_type": "markdown",
   "metadata": {},
   "source": [
    "## Imports"
   ]
  },
  {
   "cell_type": "code",
   "execution_count": null,
   "metadata": {},
   "outputs": [],
   "source": [
    "import warnings\n",
    "warnings.filterwarnings('ignore')"
   ]
  },
  {
   "cell_type": "code",
   "execution_count": null,
   "metadata": {},
   "outputs": [],
   "source": [
    "import pandas as pd\n",
    "import geopandas as gpd\n",
    "import json\n",
    "import requests\n",
    "\n",
    "from pathlib import Path\n",
    "from zipfile import ZipFile"
   ]
  },
  {
   "cell_type": "code",
   "execution_count": null,
   "metadata": {},
   "outputs": [],
   "source": [
    "from bokeh.io import output_file, output_notebook, show\n",
    "from bokeh.plotting import figure\n",
    "from bokeh.models import ColumnDataSource, GeoJSONDataSource\n",
    "from bokeh.models import HoverTool, LinearColorMapper, ColorBar\n",
    "from bokeh.palettes import brewer, Viridis"
   ]
  },
  {
   "cell_type": "markdown",
   "metadata": {},
   "source": [
    "## Shapefiles"
   ]
  },
  {
   "cell_type": "code",
   "execution_count": null,
   "metadata": {},
   "outputs": [],
   "source": [
    "shapefile = 'gemeente_2020_v1.shp'"
   ]
  },
  {
   "cell_type": "code",
   "execution_count": null,
   "metadata": {},
   "outputs": [],
   "source": [
    "# Download data\n",
    "download_dir = Path('../downloads')\n",
    "download_dir.mkdir(exist_ok=True)\n",
    "\n",
    "url = 'https://www.cbs.nl/-/media/cbs/dossiers/nederland-regionaal/wijk-en-buurtstatistieken/wijkbuurtkaart_2020_v1.zip'\n",
    "filename = url.split('/')[-1]\n",
    "\n",
    "if not Path(download_dir /filename).is_file():\n",
    "    try:\n",
    "        r = requests.get(url)\n",
    "        with open(download_dir /filename,'wb') as output_file:\n",
    "            output_file.write(r.content)\n",
    "    except:\n",
    "        pass"
   ]
  },
  {
   "cell_type": "code",
   "execution_count": null,
   "metadata": {},
   "outputs": [],
   "source": [
    "# Extract data\n",
    "shapefiles_dir = Path('../shapefiles')\n",
    "shapefiles_dir.mkdir(exist_ok=True)\n",
    "\n",
    "if not Path(shapefiles_dir /shapefile).is_file():\n",
    "    with ZipFile(download_dir /filename, 'r') as zipObj:\n",
    "        zipObj.extractall(shapefiles_dir)"
   ]
  },
  {
   "cell_type": "code",
   "execution_count": null,
   "metadata": {},
   "outputs": [],
   "source": [
    "# Read data\n",
    "gdf = gpd.read_file(shapefiles_dir / shapefile)\n",
    "gdf.sample(n=3)"
   ]
  },
  {
   "cell_type": "code",
   "execution_count": null,
   "metadata": {},
   "outputs": [],
   "source": [
    "# Filter rows (i.e. land only) and select columns\n",
    "gemeente = gdf.loc[gdf.H2O=='NEE', ['GM_NAAM', 'AANT_INW', 'geometry']]\n",
    "gemeente.sample(n=3)"
   ]
  },
  {
   "cell_type": "markdown",
   "metadata": {},
   "source": [
    "## COVID-19 data"
   ]
  },
  {
   "cell_type": "code",
   "execution_count": null,
   "metadata": {},
   "outputs": [],
   "source": [
    "base_url = 'https://data.rivm.nl/covid-19'\n",
    "file_name = 'COVID-19_aantallen_gemeente_per_dag.csv'"
   ]
  },
  {
   "cell_type": "code",
   "execution_count": null,
   "metadata": {},
   "outputs": [],
   "source": [
    "data_dir = Path('../data')\n",
    "data_dir.mkdir(exist_ok=True)\n",
    "\n",
    "try:\n",
    "    rivm = pd.read_csv(f'{base_url}/{file_name}', sep=';')\n",
    "    print(f'Data downloaded from {base_url}')\n",
    "except:\n",
    "    print('Data read from disk')\n",
    "    rivm = pd.read_csv(data_dir / 'rivm.csv', sep=';')"
   ]
  },
  {
   "cell_type": "code",
   "execution_count": null,
   "metadata": {},
   "outputs": [],
   "source": [
    "datum = '2021-01-05'"
   ]
  },
  {
   "cell_type": "code",
   "execution_count": null,
   "metadata": {},
   "outputs": [],
   "source": [
    "df = rivm.loc[rivm.Date_of_publication == datum, ['Municipality_name', 'Total_reported']]\\\n",
    ".dropna().groupby(by = 'Municipality_name').sum('Total_reported').reset_index()\n",
    "df.sample(n=5)"
   ]
  },
  {
   "cell_type": "markdown",
   "metadata": {},
   "source": [
    "## Merge datasets"
   ]
  },
  {
   "cell_type": "code",
   "execution_count": null,
   "metadata": {},
   "outputs": [],
   "source": [
    "gdf = pd.merge(gemeente, df, how='left', left_on='GM_NAAM', right_on='Municipality_name')\n",
    "gdf.drop('Municipality_name', axis=1, inplace=True)\n",
    "gdf['AANT_COVID_100K'] = 100_000 / gdf.AANT_INW * gdf.Total_reported # Aantal besmettingen per 100.000 inwoners\n",
    "gdf.sample(n=5)"
   ]
  },
  {
   "cell_type": "markdown",
   "metadata": {},
   "source": [
    "## Bokeh"
   ]
  },
  {
   "cell_type": "code",
   "execution_count": null,
   "metadata": {},
   "outputs": [],
   "source": [
    "# Convert to GeoJSON\n",
    "json_gdf = json.loads(gdf.to_json())\n",
    "\n",
    "# Convert to string-like object \n",
    "json_data = json.dumps(json_gdf)\n",
    "\n",
    "# GeoJSONDataSource\n",
    "source = GeoJSONDataSource(geojson = json_data)"
   ]
  },
  {
   "cell_type": "code",
   "execution_count": null,
   "metadata": {},
   "outputs": [],
   "source": [
    "# Set output to notebook\n",
    "output_notebook()"
   ]
  },
  {
   "cell_type": "code",
   "execution_count": null,
   "metadata": {},
   "outputs": [],
   "source": [
    "palette = brewer['Blues'][256]\n",
    "palette = palette[::-1] # Reverse color order so that dark red represents high numbers\n",
    "color_mapper = LinearColorMapper(palette = palette, low = 0, high = gdf['AANT_COVID_100K'].max())\n",
    "color_bar = ColorBar(color_mapper=color_mapper, label_standoff=18, border_line_color=None, location = (0, 0))\n",
    "\n",
    "hover = HoverTool(tooltips = [('Gemeente','@GM_NAAM'),\n",
    "                              ('Aantal besmettingen', '@AANT_COVID_100K{1.1}')])\n",
    "\n",
    "p = figure(title = 'COVID-10 besmettingen per 100.000 inwoners',\n",
    "           plot_width=700, plot_height = 800, toolbar_location = None)\n",
    "p.patches('xs', 'ys', source = source,\n",
    "          fill_color = {'field' : 'AANT_COVID_100K', 'transform' : color_mapper},\n",
    "          fill_alpha =  1,\n",
    "          line_color = 'black',\n",
    "          line_width = 0.25)\n",
    "p.xgrid.grid_line_color = None\n",
    "p.ygrid.grid_line_color = None\n",
    "p.axis.visible = False\n",
    "p.add_layout(color_bar, 'right')\n",
    "p.add_tools(hover)\n",
    "    \n",
    "show(p)"
   ]
  },
  {
   "cell_type": "code",
   "execution_count": null,
   "metadata": {},
   "outputs": [],
   "source": [
    "palette = Viridis[256]\n",
    "color_mapper = LinearColorMapper(palette = palette, low = 0, high = gdf['AANT_COVID_100K'].max())\n",
    "color_bar = ColorBar(color_mapper=color_mapper, label_standoff=18, border_line_color=None, location = (0, 0))\n",
    "\n",
    "hover = HoverTool(tooltips = [('Gemeente','@GM_NAAM'),\n",
    "                              ('Aantal besmettingen', '@AANT_COVID_100K{1.1}')])\n",
    "\n",
    "p = figure(title = 'COVID-10 besmettingen per 100.000 inwoners',\n",
    "           plot_width=700, plot_height = 800, toolbar_location = None)\n",
    "p.patches('xs', 'ys', source = source,\n",
    "          fill_color = {'field' : 'AANT_COVID_100K', 'transform' : color_mapper},\n",
    "          fill_alpha =  1,\n",
    "          line_color = 'black',\n",
    "          line_width = 0.25)\n",
    "p.xgrid.grid_line_color = None\n",
    "p.ygrid.grid_line_color = None\n",
    "p.axis.visible = False\n",
    "p.add_layout(color_bar, 'right')\n",
    "p.add_tools(hover)\n",
    "    \n",
    "show(p)"
   ]
  },
  {
   "cell_type": "code",
   "execution_count": null,
   "metadata": {},
   "outputs": [],
   "source": []
  }
 ],
 "metadata": {
  "@webio": {
   "lastCommId": null,
   "lastKernelId": null
  },
  "kernelspec": {
   "display_name": "Python 3",
   "language": "python",
   "name": "python3"
  },
  "language_info": {
   "codemirror_mode": {
    "name": "ipython",
    "version": 3
   },
   "file_extension": ".py",
   "mimetype": "text/x-python",
   "name": "python",
   "nbconvert_exporter": "python",
   "pygments_lexer": "ipython3",
   "version": "3.8.5"
  }
 },
 "nbformat": 4,
 "nbformat_minor": 4
}
